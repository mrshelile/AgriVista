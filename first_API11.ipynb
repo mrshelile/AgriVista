{
 "cells": [
  {
   "cell_type": "code",
   "execution_count": 4,
   "metadata": {},
   "outputs": [],
   "source": [
    "import requests\n"
   ]
  },
  {
   "cell_type": "code",
   "execution_count": 5,
   "metadata": {},
   "outputs": [],
   "source": [
    "latitude = -29.310054\n",
    "longitude =27.478222\n",
    "CITY = 'Maseru'\n",
    "a = 'Lithabaneng'\n",
    "l = 'lesotho'"
   ]
  },
  {
   "cell_type": "code",
   "execution_count": 11,
   "metadata": {},
   "outputs": [],
   "source": [
    "api_key = '61b0b632a8544dcb8bb93704242909' #worldweather\n",
    "url = f'http://api.worldweatheronline.com/premium/v1/weather.ashx?key={api_key}&q={CITY}&fx=no&gb-defra-index=Band&format=json'#worldweather\n",
    "\n",
    "\n",
    "api_key1 = '8a1b6e70490e41ddf5a53b131acbc60c' #open weather\n",
    "URL = f\"http://api.openweathermap.org/data/2.5/weather?lat={latitude}&lon={longitude}&appid={api_key1}&units=metric\"#open weather\n"
   ]
  },
  {
   "cell_type": "code",
   "execution_count": 14,
   "metadata": {},
   "outputs": [
    {
     "name": "stdout",
     "output_type": "stream",
     "text": [
      "{'data': {'request': [{'type': 'City', 'query': 'Maseru, Lesotho'}], 'current_condition': [{'observation_time': '01:15 PM', 'temp_C': '21', 'temp_F': '70', 'weatherCode': '116', 'weatherIconUrl': [{'value': 'https://cdn.worldweatheronline.com/images/wsymbols01_png_64/wsymbol_0002_sunny_intervals.png'}], 'weatherDesc': [{'value': 'Partly Cloudy '}], 'windspeedMiles': '4', 'windspeedKmph': '7', 'winddirDegree': '196', 'winddir16Point': 'SSW', 'precipMM': '0.0', 'precipInches': '0.0', 'humidity': '15', 'visibility': '10', 'visibilityMiles': '6', 'pressure': '1025', 'pressureInches': '30', 'cloudcover': '33', 'FeelsLikeC': '21', 'FeelsLikeF': '70', 'uvIndex': '7'}], 'ClimateAverages': [{'month': [{'index': '1', 'name': 'January', 'avgMinTemp': '14.8', 'avgMinTemp_F': '58.6', 'absMaxTemp': '29.0645', 'absMaxTemp_F': '84.3', 'avgDailyRainfall': '4.76'}, {'index': '2', 'name': 'February', 'avgMinTemp': '13.6', 'avgMinTemp_F': '56.6', 'absMaxTemp': '31.5356', 'absMaxTemp_F': '88.8', 'avgDailyRainfall': '4.13'}, {'index': '3', 'name': 'March', 'avgMinTemp': '11.9', 'avgMinTemp_F': '53.5', 'absMaxTemp': '30.0516', 'absMaxTemp_F': '86.1', 'avgDailyRainfall': '2.71'}, {'index': '4', 'name': 'April', 'avgMinTemp': '8.5', 'avgMinTemp_F': '47.3', 'absMaxTemp': '22.9506', 'absMaxTemp_F': '73.3', 'avgDailyRainfall': '2.81'}, {'index': '5', 'name': 'May', 'avgMinTemp': '5.5', 'avgMinTemp_F': '41.9', 'absMaxTemp': '22.7474', 'absMaxTemp_F': '72.9', 'avgDailyRainfall': '0.91'}, {'index': '6', 'name': 'June', 'avgMinTemp': '1.9', 'avgMinTemp_F': '35.4', 'absMaxTemp': '16.2878', 'absMaxTemp_F': '61.3', 'avgDailyRainfall': '0.77'}, {'index': '7', 'name': 'July', 'avgMinTemp': '1.3', 'avgMinTemp_F': '34.4', 'absMaxTemp': '16.236', 'absMaxTemp_F': '61.2', 'avgDailyRainfall': '0.52'}, {'index': '8', 'name': 'August', 'avgMinTemp': '3.8', 'avgMinTemp_F': '38.9', 'absMaxTemp': '20.4737', 'absMaxTemp_F': '68.9', 'avgDailyRainfall': '0.52'}, {'index': '9', 'name': 'September', 'avgMinTemp': '8.0', 'avgMinTemp_F': '46.4', 'absMaxTemp': '24.4722', 'absMaxTemp_F': '76.0', 'avgDailyRainfall': '0.73'}, {'index': '10', 'name': 'October', 'avgMinTemp': '10.7', 'avgMinTemp_F': '51.2', 'absMaxTemp': '27.2565', 'absMaxTemp_F': '81.1', 'avgDailyRainfall': '2.41'}, {'index': '11', 'name': 'November', 'avgMinTemp': '11.9', 'avgMinTemp_F': '53.4', 'absMaxTemp': '28.365', 'absMaxTemp_F': '83.1', 'avgDailyRainfall': '3.89'}, {'index': '12', 'name': 'December', 'avgMinTemp': '13.8', 'avgMinTemp_F': '56.8', 'absMaxTemp': '29.9233', 'absMaxTemp_F': '85.9', 'avgDailyRainfall': '5.20'}]}]}}\n"
     ]
    }
   ],
   "source": [
    "#getting worldweather\n",
    "response = requests.get(url)\n",
    "data1 = response.json()\n",
    "print(data1)\n"
   ]
  },
  {
   "cell_type": "code",
   "execution_count": 8,
   "metadata": {},
   "outputs": [
    {
     "name": "stdout",
     "output_type": "stream",
     "text": [
      "{'coord': {'lon': 27.4782, 'lat': -29.3101}, 'weather': [{'id': 804, 'main': 'Clouds', 'description': 'overcast clouds', 'icon': '04d'}], 'base': 'stations', 'main': {'temp': 20.6, 'feels_like': 19.13, 'temp_min': 20.6, 'temp_max': 20.6, 'pressure': 1026, 'humidity': 16, 'sea_level': 1026, 'grnd_level': 859}, 'visibility': 10000, 'wind': {'speed': 1.35, 'deg': 198, 'gust': 1.57}, 'clouds': {'all': 85}, 'dt': 1727960251, 'sys': {'country': 'LS', 'sunrise': 1727927154, 'sunset': 1727971919}, 'timezone': 7200, 'id': 932505, 'name': 'Maseru', 'cod': 200}\n"
     ]
    }
   ],
   "source": [
    "#getting openweather\n",
    "response = requests.get(URL)\n",
    "data = response.json()\n",
    "print(data)\n",
    "\n"
   ]
  },
  {
   "cell_type": "code",
   "execution_count": 16,
   "metadata": {},
   "outputs": [
    {
     "name": "stdout",
     "output_type": "stream",
     "text": [
      "[[21.0, 21.9, 7.7, 16, 7, 1, 2]]\n"
     ]
    }
   ],
   "source": [
    "# Extract weather conditions openweather \n",
    "humidity = data['main']['humidity']\n",
    "\n",
    "## Extract weather conditions worldweather\n",
    "avrainfall = float(data1['data']['ClimateAverages'][0]['month'][8]['avgDailyRainfall'])\n",
    "ava_temparature = float(data1['data']['current_condition'][0]['temp_C'])\n",
    "# Example with fetched data\n",
    "new_conditions = [[ava_temparature, avrainfall * 30, 7.7, humidity, 7, 1, 2]]  \n",
    "print(new_conditions)\n"
   ]
  },
  {
   "cell_type": "code",
   "execution_count": 10,
   "metadata": {},
   "outputs": [
    {
     "data": {
      "text/plain": [
       "'January'"
      ]
     },
     "execution_count": 10,
     "metadata": {},
     "output_type": "execute_result"
    }
   ],
   "source": [
    "x = data1['data']['ClimateAverages'][0]['month'][0]['name']\n",
    "x"
   ]
  }
 ],
 "metadata": {
  "kernelspec": {
   "display_name": "Python 3",
   "language": "python",
   "name": "python3"
  },
  "language_info": {
   "codemirror_mode": {
    "name": "ipython",
    "version": 3
   },
   "file_extension": ".py",
   "mimetype": "text/x-python",
   "name": "python",
   "nbconvert_exporter": "python",
   "pygments_lexer": "ipython3",
   "version": "3.12.4"
  }
 },
 "nbformat": 4,
 "nbformat_minor": 2
}
