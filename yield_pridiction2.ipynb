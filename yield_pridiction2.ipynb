{
 "cells": [
  {
   "cell_type": "code",
   "execution_count": 1,
   "metadata": {},
   "outputs": [],
   "source": [
    "import pandas as pd\n",
    "from sklearn.model_selection import train_test_split\n",
    "from sklearn.preprocessing import LabelEncoder\n",
    "from sklearn.ensemble import RandomForestClassifier\n",
    "from sklearn.metrics import accuracy_score\n",
    "import numpy as np\n",
    "from imblearn.over_sampling import RandomOverSampler"
   ]
  },
  {
   "cell_type": "code",
   "execution_count": 2,
   "metadata": {},
   "outputs": [
    {
     "name": "stdout",
     "output_type": "stream",
     "text": [
      "0      0\n",
      "1      0\n",
      "2      0\n",
      "3      1\n",
      "4      1\n",
      "      ..\n",
      "161    0\n",
      "162    1\n",
      "163    1\n",
      "164    1\n",
      "165    0\n",
      "Name: Soil Type, Length: 166, dtype: int64\n"
     ]
    }
   ],
   "source": [
    "data = pd.read_excel('Finally crop pridiction.xlsx')\n",
    "data.shape\n",
    "\n",
    "\n",
    "label_encoder = LabelEncoder()\n",
    "data['Soil Type'] = label_encoder.fit_transform(data['Soil Type'])\n",
    "data['Wind'] = label_encoder.fit_transform(data['Wind'])\n",
    "print(data['Soil Type'])"
   ]
  },
  {
   "cell_type": "code",
   "execution_count": 3,
   "metadata": {},
   "outputs": [],
   "source": [
    "X = data[['Avg. Temp (°C)', 'Avg. Rainfall', 'Avg. Soil pH', 'Avg. Humidity', 'Avg. Sunlight (hours)', 'Wind', 'Soil Type']]\n",
    "y = data['Crop'] \n",
    "\n",
    "# Data Augmentation: Noise Injection\n",
    "def add_noise(X, noise_level=0.1):\n",
    "    noisy_data = X.copy()\n",
    "    noise = np.random.normal(0, noise_level, noisy_data.shape)\n",
    "    noisy_data += noise\n",
    "    return noisy_data\n",
    "\n",
    "# Augment the dataset with noise\n",
    "X_noisy = add_noise(X)\n",
    "X_augmented = np.vstack((X, X_noisy))\n",
    "y_augmented = np.hstack((y, y))"
   ]
  },
  {
   "cell_type": "code",
   "execution_count": 4,
   "metadata": {},
   "outputs": [
    {
     "name": "stdout",
     "output_type": "stream",
     "text": [
      "Training Random Forest Classifier...\n",
      "Random Forest Classifier Accuracy: 0.88\n"
     ]
    }
   ],
   "source": [
    "ros = RandomOverSampler(random_state=42)\n",
    "X_ros, y_ros = ros.fit_resample(X_augmented, y_augmented)\n",
    "\n",
    "X_train, X_test, y_train, y_test = train_test_split(X_ros, y_ros, test_size=0.4, random_state=42)\n",
    "\n",
    "\n",
    "print(\"Training Random Forest Classifier...\")\n",
    "rf_model = RandomForestClassifier(n_estimators=100, random_state=42)\n",
    "rf_model.fit(X_train, y_train)\n",
    "\n",
    "\n",
    "y_pred_rf = rf_model.predict(X_test)\n",
    "accuracy_rf = accuracy_score(y_test, y_pred_rf)\n",
    "print(f\"Random Forest Classifier Accuracy: {accuracy_rf:.2f}\")"
   ]
  },
  {
   "cell_type": "code",
   "execution_count": 8,
   "metadata": {},
   "outputs": [
    {
     "name": "stdout",
     "output_type": "stream",
     "text": [
      "Top 3 crops suitable for the given conditions:\n",
      "Brussels Sprouts: 17.00%\n",
      "Malabar Spinach: 15.00%\n",
      "Buckwheat: 11.00%\n"
     ]
    },
    {
     "data": {
      "text/plain": [
       "(21.3, 444, 7.9, 47.6, 6, 2, 2)"
      ]
     },
     "execution_count": 8,
     "metadata": {},
     "output_type": "execute_result"
    }
   ],
   "source": [
    "new_conditions = [[24.4,450,7.7,68.4,7,1,2]]  # Example conditions: Temp=25°C, Rainfall=60mm, Soil pH=6.5, etc.\n",
    "\n",
    "\n",
    "predicted_probs = rf_model.predict_proba(new_conditions)\n",
    "\n",
    "\n",
    "crop_names = rf_model.classes_\n",
    "probabilities = predicted_probs[0]\n",
    "\n",
    "\n",
    "top_3_indices = probabilities.argsort()[-3:][::-1]\n",
    "top_3_crops = [(crop_names[i], probabilities[i]) for i in top_3_indices]\n",
    "\n",
    "\n",
    "print(\"Top 3 crops suitable for the given conditions:\")\n",
    "# print(top_3_crops)\n",
    "for crop, prob in top_3_crops:\n",
    "    print(f\"{crop}: {prob*100:.2f}%\")\n",
    "\n",
    "\n",
    "17.8,682,7.7,67.4,9,1,1 #cabbage\n",
    "21.3,444,7.9,47.6,6,2,2 #pepper"
   ]
  },
  {
   "cell_type": "code",
   "execution_count": 6,
   "metadata": {},
   "outputs": [],
   "source": [
    "import joblib\n",
    "import h5py\n",
    "\n",
    "# Save the model using joblib\n",
    "model_filename = 'crop_prediction.pkl'\n",
    "joblib.dump(rf_model, model_filename)\n",
    "\n",
    "# Save the serialized model into an .h5 file\n",
    "with h5py.File('crop_prediction.h5', 'w') as hf:\n",
    "    with open(model_filename, 'rb') as f:\n",
    "        hf.create_dataset('random_forest', data=np.frombuffer(f.read(), dtype='uint8'))"
   ]
  },
  {
   "cell_type": "code",
   "execution_count": 10,
   "metadata": {},
   "outputs": [
    {
     "name": "stdout",
     "output_type": "stream",
     "text": [
      "Top 3 crops suitable for the given conditions:\n",
      "Cabbage: 30.00%\n",
      "Lentils (Red, Green, Brown): 6.00%\n",
      "Basil: 5.00%\n"
     ]
    }
   ],
   "source": [
    "import h5py\n",
    "import joblib\n",
    "import numpy as np\n",
    "\n",
    "# Load the serialized model from the .h5 file\n",
    "with h5py.File('crop_prediction.h5', 'r') as hf:\n",
    "    model_data = hf['random_forest'][:]\n",
    "\n",
    "# Save the buffer back to a .pkl file\n",
    "with open('crop_prediction.pkl', 'wb') as f:\n",
    "    f.write(model_data.tobytes())\n",
    "\n",
    "# Load the model using joblib\n",
    "model = joblib.load('crop_prediction.pkl')\n",
    "\n",
    "# Now you can use the loaded model for prediction\n",
    "# Example: Predicting using some random data\n",
    "# X_test = np.random.rand(1, 5)  # Replace this with actual test data\n",
    "# prediction = model.predict([[17.8,682,7.7,67.4,9,1,1]])\n",
    "\n",
    "predicted_probs = rf_model.predict_proba([[17.8,682,7.7,67.4,9,1,1]])\n",
    "\n",
    "\n",
    "crop_names = rf_model.classes_\n",
    "probabilities = predicted_probs[0]\n",
    "\n",
    "\n",
    "top_3_indices = probabilities.argsort()[-3:][::-1]\n",
    "top_3_crops = [(crop_names[i], probabilities[i]) for i in top_3_indices]\n",
    "\n",
    "\n",
    "print(\"Top 3 crops suitable for the given conditions:\")\n",
    "# print(top_3_crops)\n",
    "for crop, prob in top_3_crops:\n",
    "    print(f\"{crop}: {prob*100:.2f}%\")\n"
   ]
  },
  {
   "cell_type": "code",
   "execution_count": null,
   "metadata": {},
   "outputs": [],
   "source": []
  }
 ],
 "metadata": {
  "kernelspec": {
   "display_name": "Python 3",
   "language": "python",
   "name": "python3"
  },
  "language_info": {
   "codemirror_mode": {
    "name": "ipython",
    "version": 3
   },
   "file_extension": ".py",
   "mimetype": "text/x-python",
   "name": "python",
   "nbconvert_exporter": "python",
   "pygments_lexer": "ipython3",
   "version": "3.12.4"
  }
 },
 "nbformat": 4,
 "nbformat_minor": 2
}
