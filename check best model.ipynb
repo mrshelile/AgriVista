{
 "cells": [
  {
   "cell_type": "code",
   "execution_count": 2,
   "id": "ad4a5e97-d325-45e4-b6d2-71eeccf59cdb",
   "metadata": {},
   "outputs": [
    {
     "name": "stdout",
     "output_type": "stream",
     "text": [
      "Model Accuracy: 0.00%\n",
      "Crops suitable for the given conditions (with probability > 20%):\n",
      "Millet: 48.00%\n"
     ]
    },
    {
     "name": "stderr",
     "output_type": "stream",
     "text": [
      "/root/anaconda3/lib/python3.12/site-packages/sklearn/base.py:493: UserWarning: X does not have valid feature names, but RandomForestClassifier was fitted with feature names\n",
      "  warnings.warn(\n"
     ]
    },
    {
     "data": {
      "text/plain": [
       "(27.5, 50, 6, 50, 7, 1, 2)"
      ]
     },
     "execution_count": 2,
     "metadata": {},
     "output_type": "execute_result"
    }
   ],
   "source": [
    "# Import required libraries\n",
    "# Import required libraries\n",
    "import pandas as pd\n",
    "from sklearn.model_selection import train_test_split\n",
    "from sklearn.preprocessing import LabelEncoder\n",
    "from sklearn.ensemble import RandomForestClassifier\n",
    "from sklearn.metrics import accuracy_score\n",
    "\n",
    "# Load the Excel data\n",
    "\n",
    "data = pd.read_excel('corected data2.xlsx')\n",
    "\n",
    "# Check for missing values and handle them if necessary\n",
    "data.isnull().sum()  # Handle missing values (e.g., dropna or fillna if necessary)\n",
    "\n",
    "# Encode categorical variables 'Soil Type' and 'Wind' using LabelEncoder\n",
    "label_encoder = LabelEncoder()\n",
    "data['Soil Type'] = label_encoder.fit_transform(data['Soil Type'])\n",
    "data['Wind'] = label_encoder.fit_transform(data['Wind'])\n",
    "\n",
    "# Define features (X) and target (y)\n",
    "X = data[['Avg. Temp (°C)', 'Avg. Rainfall', 'Avg. Soil pH', 'Avg. Humidity', 'Avg. Sunlight (hours)', 'Wind', 'Soil Type']]\n",
    "y = data['Crop']  # The target variable is the crop\n",
    "\n",
    "# Split the data into training and testing sets (80% train, 20% test)\n",
    "X_train, X_test, y_train, y_test = train_test_split(X, y, test_size=0.2, random_state=42)\n",
    "\n",
    "# Train a Random Forest Classifier\n",
    "model = RandomForestClassifier(n_estimators=100, random_state=42)\n",
    "model.fit(X_train, y_train)\n",
    "\n",
    "# Make predictions on the test set\n",
    "y_pred = model.predict(X_test)\n",
    "\n",
    "# Evaluate the model's accuracy\n",
    "accuracy = accuracy_score(y_test, y_pred)\n",
    "print(f'Model Accuracy: {accuracy * 100:.2f}%')\n",
    "\n",
    "# Example: Predict the best crops for specific weather and soil conditions using predict_proba\n",
    "# new_conditions: [Avg. Temp (°C), Avg. Rainfall, Avg. Soil pH, Avg. Humidity, Avg. Sunlight (hours), Wind, Soil Type]\n",
    "new_conditions = [[27.5,50,6,50,7,1,2]]  # Example conditions: Temp=25°C, Rainfall=60mm, Soil pH=6.5, etc.\n",
    "\n",
    "# Get prediction probabilities for all crops\n",
    "predicted_probs = model.predict_proba(new_conditions)\n",
    "\n",
    "# Get crop names and the corresponding probabilities\n",
    "crop_names = model.classes_\n",
    "probabilities = predicted_probs[0]\n",
    "\n",
    "# Set a threshold, e.g., crops with probability above 0.2 (20%) will be considered\n",
    "threshold = 0.2\n",
    "suitable_crops = [(crop_names[i], probabilities[i]) for i in range(len(probabilities)) if probabilities[i] > threshold]\n",
    "\n",
    "# Display the suitable crops and their probabilities\n",
    "print(\"Crops suitable for the given conditions (with probability > 20%):\")\n",
    "for crop, prob in suitable_crops:\n",
    "    print(f\"{crop}: {prob*100:.2f}%\")\n",
    "\n",
    "17.5,55,6.75,55,9,2,1\n",
    "18.5,50,6.75,55,7,3,1\n",
    "17.5,50,6.75,60,7,2,1\n",
    "33,25,5,67,5,1,2\n",
    "27.5,50,6,50,7,1,2"
   ]
  },
  {
   "cell_type": "code",
   "execution_count": 16,
   "id": "7d54e34d-e4b2-45d0-9825-032ff7848697",
   "metadata": {},
   "outputs": [
    {
     "name": "stdout",
     "output_type": "stream",
     "text": [
      "Model Accuracy: 0.00%\n",
      "Top 3 crops suitable for the given conditions:\n",
      "Millet: 48.00%\n",
      "Garlic: 15.00%\n",
      "Sorghum: 8.00%\n"
     ]
    },
    {
     "name": "stderr",
     "output_type": "stream",
     "text": [
      "C:\\Users\\Student.L2PC-36\\anaconda3\\Lib\\site-packages\\sklearn\\base.py:439: UserWarning: X does not have valid feature names, but RandomForestClassifier was fitted with feature names\n",
      "  warnings.warn(\n"
     ]
    }
   ],
   "source": [
    "\n",
    "import pandas as pd\n",
    "from sklearn.model_selection import train_test_split\n",
    "from sklearn.preprocessing import LabelEncoder\n",
    "from sklearn.ensemble import RandomForestClassifier\n",
    "from sklearn.metrics import accuracy_score\n",
    "\n",
    "# Load the Excel data\n",
    "\n",
    "data = pd.read_excel('Downloads/corected data2.xlsx')\n",
    "\n",
    "# Check for missing values and handle them if necessary\n",
    "data.isnull().sum()  # Handle missing values (e.g., dropna or fillna if necessary)\n",
    "\n",
    "# Encode categorical variables 'Soil Type' and 'Wind' using LabelEncoder\n",
    "label_encoder = LabelEncoder()\n",
    "data['Soil Type'] = label_encoder.fit_transform(data['Soil Type'])\n",
    "data['Wind'] = label_encoder.fit_transform(data['Wind'])\n",
    "\n",
    "# Define features (X) and target (y)\n",
    "X = data[['Avg. Temp (°C)', 'Avg. Rainfall', 'Avg. Soil pH', 'Avg. Humidity', 'Avg. Sunlight (hours)', 'Wind', 'Soil Type']]\n",
    "y = data['Crop']  # The target variable is the crop\n",
    "\n",
    "# Split the data into training and testing sets (80% train, 20% test)\n",
    "X_train, X_test, y_train, y_test = train_test_split(X, y, test_size=0.2, random_state=42)\n",
    "\n",
    "# Train a Random Forest Classifier\n",
    "model = RandomForestClassifier(n_estimators=100, random_state=42)\n",
    "model.fit(X_train, y_train)\n",
    "\n",
    "# Make predictions on the test set\n",
    "y_pred = model.predict(X_test)\n",
    "\n",
    "# Evaluate the model's accuracy\n",
    "accuracy = accuracy_score(y_test, y_pred)\n",
    "print(f'Model Accuracy: {accuracy * 100:.2f}%')\n",
    "\n",
    "# Example: Predict the best crops for specific weather and soil conditions using predict_proba\n",
    "# new_conditions: [Avg. Temp (°C), Avg. Rainfall, Avg. Soil pH, Avg. Humidity, Avg. Sunlight (hours), Wind, Soil Type]\n",
    "new_conditions = [[27.5,50,6,50,7,1,2]]  # Example conditions: Temp=25°C, Rainfall=60mm, Soil pH=6.5, etc.\n",
    "\n",
    "# Get prediction probabilities for all crops\n",
    "predicted_probs = model.predict_proba(new_conditions)\n",
    "\n",
    "# Get crop names and corresponding probabilities\n",
    "crop_names = model.classes_\n",
    "probabilities = predicted_probs[0]\n",
    "\n",
    "# Sort crops by probability in descending order and select the top 3\n",
    "top_3_indices = probabilities.argsort()[-3:][::-1]\n",
    "top_3_crops = [(crop_names[i], probabilities[i]) for i in top_3_indices]\n",
    "\n",
    "# Display the top 3 suitable crops and their probabilities\n",
    "print(\"Top 3 crops suitable for the given conditions:\")\n",
    "for crop, prob in top_3_crops:\n",
    "    print(f\"{crop}: {prob*100:.2f}%\")\n"
   ]
  }
 ],
 "metadata": {
  "kernelspec": {
   "display_name": "Python 3 (ipykernel)",
   "language": "python",
   "name": "python3"
  },
  "language_info": {
   "codemirror_mode": {
    "name": "ipython",
    "version": 3
   },
   "file_extension": ".py",
   "mimetype": "text/x-python",
   "name": "python",
   "nbconvert_exporter": "python",
   "pygments_lexer": "ipython3",
   "version": "3.12.4"
  }
 },
 "nbformat": 4,
 "nbformat_minor": 5
}
