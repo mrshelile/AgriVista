{
 "cells": [
  {
   "cell_type": "code",
   "execution_count": 1,
   "metadata": {},
   "outputs": [],
   "source": [
    "import pandas as pd\n",
    "import numpy as np\n",
    "\n",
    "\n",
    "crops = [\n",
    "    \"Cabbage\", \"Spinach\", \"Carrots\", \"Onions\", \"Tomatoes\", \"Lettuce\", \"Broccoli\",\n",
    "    \"Cauliflower\", \"Peppers\", \"Eggplant\", \"Zucchini\", \"Pumpkin\", \"Squash\", \"Radishes\",\n",
    "    \"Daikon Radish\", \"Turnips\", \"Kale\", \"Swiss Chard\", \"Celery\", \"Leeks\", \"Artichokes\",\n",
    "    \"Asparagus\", \"Bok Choy\", \"Brussels Sprouts\", \"Collard Greens\", \"Endive\", \"Fennel\",\n",
    "    \"Garlic\", \"Horseradish\", \"Jicama\", \"Kohlrabi\", \"Okra\", \"Parsnips\", \"Rutabaga\",\n",
    "    \"Scallions\", \"Shallots\", \"Snow Peas\", \"Snap Peas\", \"Watercress\", \"Arugula\",\n",
    "    \"Mustard Greens\", \"Purslane\", \"Sorrel\", \"Tatsoi\", \"Mizuna\", \"Mibuna\", \"Celtuce\",\n",
    "    \"Chinese Broccoli\", \"Chinese Cabbage\", \"Napa Cabbage\", \"Amaranth Greens\", \"Malabar Spinach\",\n",
    "    \"New Zealand Spinach\", \"Water Spinach\", \"Sweet Corn\", \"Bulgur\", \"Maize\", \"Sorghum\",\n",
    "    \"Wheat\", \"Barley\", \"Millet\", \"Oats\", \"Rye\", \"Triticale\", \"Quinoa\", \"Amaranth\",\n",
    "    \"Buckwheat\", \"Spelt\", \"Teff\", \"Fonio\", \"Kañiwa\", \"Job’s Tears\", \"Wild Rice\",\n",
    "    \"Einkorn\", \"Green Luobo\", \"Beans\", \"Peas\", \"Lentils\", \"Chickpeas\", \"Soybeans\",\n",
    "    \"Cowpeas\", \"Pigeon Peas\", \"Lupins\", \"Mung Beans\", \"Black Beans\", \"Kidney Beans\",\n",
    "    \"Navy Beans\", \"Pinto Beans\", \"Adzuki Beans\", \"Fava Beans\", \"Lima Beans\", \n",
    "    \"Black-eyed Peas\", \"Lentils (Red, Green, Brown)\", \"Winged Beans\", \"Hyacinth Beans\",\n",
    "    \"Velvet Beans\", \"Sword Beans\", \"Tepary Beans\", \"White Icicle Radish\", \"Basil\", \n",
    "    \"Parsley\", \"Cilantro\", \"Mint\", \"Thyme\", \"Rosemary\", \"Sage\", \"Oregano\", \n",
    "    \"Dill\", \"Chives\", \"Tarragon\", \"Marjoram\", \"Lemon Balm\", \"Lovage\", \"Bay Leaves\",\n",
    "    \"Chamomile\", \"Echinacea\", \"Lavender\", \"Peppermint\", \"Spearmint\", \"Catnip\", \n",
    "    \"Feverfew\", \"Hyssop\", \"Lemon Verbena\", \"Stevia\", \"Sakurajima Radish\", \n",
    "    \"Potatoes\", \"Sweet Potatoes\", \"Yams\", \"Cassava\", \"Taro\", \"Jerusalem Artichokes\", \n",
    "    \"Ginger\", \"Turmeric\", \"Arrowroot\", \"Salsify\", \"Oca\", \"Ulluco\", \"Mashua\", \n",
    "    \"Yacon\", \"Maca\", \"Purple Plum\", \"Sunflowers\", \"Canola\", \"Flax\", \"Sesame\", \n",
    "    \"Safflower\", \"Cotton\", \"Tobacco\", \"Sugarcane\", \"Alfalfa\", \"Clover\", \"Hemp\", \n",
    "    \"Jute\", \"Kenaf\", \"Ramie\", \"Sisal\", \"Bamboo\", \"Bamboo Shoots\", \"Aloe Vera\", \n",
    "    \"Agave\", \"Cactus Pear\", \"Quinoa\", \"Chia\", \"Poppy\", \"Saffron\", \"Vanilla\"\n",
    "]\n"
   ]
  },
  {
   "cell_type": "code",
   "execution_count": 4,
   "metadata": {},
   "outputs": [
    {
     "name": "stdout",
     "output_type": "stream",
     "text": [
      "        Date     Crop  Market_Price     Yield\n",
      "0 2022-01-01  Cabbage      1.172897  3.615109\n",
      "1 2022-02-01  Cabbage      1.799880  4.272841\n",
      "2 2022-03-01  Cabbage      5.358745  1.756786\n",
      "3 2022-04-01  Cabbage      5.707168  4.790963\n",
      "4 2022-05-01  Cabbage      9.920319  4.863965\n"
     ]
    }
   ],
   "source": [
    "date_range = pd.date_range(start='2022-01-01', end='2024-12-01', freq='MS')\n",
    "\n",
    "# Create a DataFrame\n",
    "data = {\n",
    "    'Date': np.tile(date_range, len(crops)),\n",
    "    'Crop': np.repeat(crops, len(date_range)),\n",
    "    'Market_Price': np.random.uniform(1, 10, size=len(date_range) * len(crops)),  # Sample prices\n",
    "    'Yield': np.random.uniform(0.5, 5, size=len(date_range) * len(crops))  # Sample yields\n",
    "}\n",
    "\n",
    "df = pd.DataFrame(data)\n",
    "print(df.head(20))"
   ]
  },
  {
   "cell_type": "code",
   "execution_count": 2,
   "metadata": {},
   "outputs": [],
   "source": [
    "\n",
    "\n",
    "years = range(2020, 2025)\n",
    "\n",
    "# Prepare data\n",
    "data = []\n"
   ]
  },
  {
   "cell_type": "code",
   "execution_count": 3,
   "metadata": {},
   "outputs": [
    {
     "name": "stdout",
     "output_type": "stream",
     "text": [
      "   Year      Crop Consumer Trend  Population Growth Rate (%)  \\\n",
      "0  2020   Cabbage            Low                         2.6   \n",
      "1  2020   Spinach           High                         2.3   \n",
      "2  2020   Carrots            Low                         3.0   \n",
      "3  2020    Onions         Medium                         2.3   \n",
      "4  2020  Tomatoes            Low                         2.7   \n",
      "\n",
      "   Economic Indicator (%)  Projected Demand (Tons)  \n",
      "0                     1.7                     2811  \n",
      "1                     2.7                     2173  \n",
      "2                     2.4                     2895  \n",
      "3                     4.3                     1210  \n",
      "4                     3.3                     1089  \n"
     ]
    }
   ],
   "source": [
    "\n",
    "for year in years:\n",
    "    for crop in crops:\n",
    "        consumer_trend = np.random.choice(['High', 'Medium', 'Low'])\n",
    "        population_growth_rate = round(np.random.uniform(1.5, 3.5), 1)\n",
    "        economic_indicator = round(np.random.uniform(1.5, 4.5), 1)\n",
    "        projected_demand = np.random.randint(1000, 2900)\n",
    "\n",
    "        data.append([year, crop, consumer_trend, population_growth_rate, economic_indicator, projected_demand])\n",
    "\n",
    "# Create DataFrame\n",
    "df = pd.DataFrame(data, columns=['Year', 'Crop', 'Consumer Trend', 'Population Growth Rate (%)', 'Economic Indicator (%)', 'Projected Demand (Tons)'])\n",
    "\n",
    "\n",
    "print(df.head())\n",
    "\n",
    "\n"
   ]
  },
  {
   "cell_type": "code",
   "execution_count": null,
   "metadata": {},
   "outputs": [],
   "source": []
  }
 ],
 "metadata": {
  "kernelspec": {
   "display_name": "Python 3",
   "language": "python",
   "name": "python3"
  },
  "language_info": {
   "codemirror_mode": {
    "name": "ipython",
    "version": 3
   },
   "file_extension": ".py",
   "mimetype": "text/x-python",
   "name": "python",
   "nbconvert_exporter": "python",
   "pygments_lexer": "ipython3",
   "version": "3.12.4"
  }
 },
 "nbformat": 4,
 "nbformat_minor": 2
}
