{
 "cells": [
  {
   "cell_type": "code",
   "execution_count": 1,
   "metadata": {},
   "outputs": [],
   "source": [
    "import pandas as pd\n",
    "import numpy as np\n",
    "\n",
    "\n",
    "crops = [\n",
    "    \"Cabbage\", \"Spinach\", \"Carrots\", \"Onions\", \"Tomatoes\", \"Lettuce\", \"Broccoli\",\n",
    "    \"Cauliflower\", \"Peppers\", \"Eggplant\", \"Zucchini\", \"Pumpkin\", \"Squash\", \"Radishes\",\n",
    "    \"Daikon Radish\", \"Turnips\", \"Kale\", \"Swiss Chard\", \"Celery\", \"Leeks\", \"Artichokes\",\n",
    "    \"Asparagus\", \"Bok Choy\", \"Brussels Sprouts\", \"Collard Greens\", \"Endive\", \"Fennel\",\n",
    "    \"Garlic\", \"Horseradish\", \"Jicama\", \"Kohlrabi\", \"Okra\", \"Parsnips\", \"Rutabaga\",\n",
    "    \"Scallions\", \"Shallots\", \"Snow Peas\", \"Snap Peas\", \"Watercress\", \"Arugula\",\n",
    "    \"Mustard Greens\", \"Purslane\", \"Sorrel\", \"Tatsoi\", \"Mizuna\", \"Mibuna\", \"Celtuce\",\n",
    "    \"Chinese Broccoli\", \"Chinese Cabbage\", \"Napa Cabbage\", \"Amaranth Greens\", \"Malabar Spinach\",\n",
    "    \"New Zealand Spinach\", \"Water Spinach\", \"Sweet Corn\", \"Bulgur\", \"Maize\", \"Sorghum\",\n",
    "    \"Wheat\", \"Barley\", \"Millet\", \"Oats\", \"Rye\", \"Triticale\", \"Quinoa\", \"Amaranth\",\n",
    "    \"Buckwheat\", \"Spelt\", \"Teff\", \"Fonio\", \"Kañiwa\", \"Job’s Tears\", \"Wild Rice\",\n",
    "    \"Einkorn\", \"Green Luobo\", \"Beans\", \"Peas\", \"Lentils\", \"Chickpeas\", \"Soybeans\",\n",
    "    \"Cowpeas\", \"Pigeon Peas\", \"Lupins\", \"Mung Beans\", \"Black Beans\", \"Kidney Beans\",\n",
    "    \"Navy Beans\", \"Pinto Beans\", \"Adzuki Beans\", \"Fava Beans\", \"Lima Beans\", \n",
    "    \"Black-eyed Peas\", \"Lentils (Red, Green, Brown)\", \"Winged Beans\", \"Hyacinth Beans\",\n",
    "    \"Velvet Beans\", \"Sword Beans\", \"Tepary Beans\", \"White Icicle Radish\", \"Basil\", \n",
    "    \"Parsley\", \"Cilantro\", \"Mint\", \"Thyme\", \"Rosemary\", \"Sage\", \"Oregano\", \n",
    "    \"Dill\", \"Chives\", \"Tarragon\", \"Marjoram\", \"Lemon Balm\", \"Lovage\", \"Bay Leaves\",\n",
    "    \"Chamomile\", \"Echinacea\", \"Lavender\", \"Peppermint\", \"Spearmint\", \"Catnip\", \n",
    "    \"Feverfew\", \"Hyssop\", \"Lemon Verbena\", \"Stevia\", \"Sakurajima Radish\", \n",
    "    \"Potatoes\", \"Sweet Potatoes\", \"Yams\", \"Cassava\", \"Taro\", \"Jerusalem Artichokes\", \n",
    "    \"Ginger\", \"Turmeric\", \"Arrowroot\", \"Salsify\", \"Oca\", \"Ulluco\", \"Mashua\", \n",
    "    \"Yacon\", \"Maca\", \"Purple Plum\", \"Sunflowers\", \"Canola\", \"Flax\", \"Sesame\", \n",
    "    \"Safflower\", \"Cotton\", \"Tobacco\", \"Sugarcane\", \"Alfalfa\", \"Clover\", \"Hemp\", \n",
    "    \"Jute\", \"Kenaf\", \"Ramie\", \"Sisal\", \"Bamboo\", \"Bamboo Shoots\", \"Aloe Vera\", \n",
    "    \"Agave\", \"Cactus Pear\", \"Quinoa\", \"Chia\", \"Poppy\", \"Saffron\", \"Vanilla\"\n",
    "]\n"
   ]
  },
  {
   "cell_type": "code",
   "execution_count": 6,
   "metadata": {},
   "outputs": [
    {
     "name": "stdout",
     "output_type": "stream",
     "text": [
      "           Date     Crop  Market_Price     Yield\n",
      "5956 2023-05-01  Vanilla      5.884589  0.905430\n",
      "5957 2023-06-01  Vanilla      9.932953  2.131240\n",
      "5958 2023-07-01  Vanilla      5.400125  1.452170\n",
      "5959 2023-08-01  Vanilla      4.879541  3.510246\n",
      "5960 2023-09-01  Vanilla      9.579595  3.419099\n",
      "5961 2023-10-01  Vanilla      6.896344  4.962180\n",
      "5962 2023-11-01  Vanilla      8.562598  4.252849\n",
      "5963 2023-12-01  Vanilla      5.147970  2.400233\n",
      "5964 2024-01-01  Vanilla      9.729385  0.988464\n",
      "5965 2024-02-01  Vanilla      1.635432  3.753520\n",
      "5966 2024-03-01  Vanilla      9.967781  1.949187\n",
      "5967 2024-04-01  Vanilla      1.409004  1.326845\n",
      "5968 2024-05-01  Vanilla      1.271266  0.943452\n",
      "5969 2024-06-01  Vanilla      3.720131  4.944576\n",
      "5970 2024-07-01  Vanilla      6.351631  2.677472\n",
      "5971 2024-08-01  Vanilla      7.821402  4.745248\n",
      "5972 2024-09-01  Vanilla      3.824106  1.640298\n",
      "5973 2024-10-01  Vanilla      6.842181  4.741896\n",
      "5974 2024-11-01  Vanilla      1.482505  1.692676\n",
      "5975 2024-12-01  Vanilla      6.729177  1.601901\n"
     ]
    }
   ],
   "source": [
    "date_range = pd.date_range(start='2022-01-01', end='2024-12-01', freq='MS')\n",
    "\n",
    "# Create a DataFrame\n",
    "data = {\n",
    "    'Date': np.tile(date_range, len(crops)),\n",
    "    'Crop': np.repeat(crops, len(date_range)),\n",
    "    'Market_Price': np.random.uniform(1, 10, size=len(date_range) * len(crops)),  # Sample prices\n",
    "    'Yield': np.random.uniform(0.5, 5, size=len(date_range) * len(crops))  # Sample yields\n",
    "}\n",
    "\n",
    "df = pd.DataFrame(data)\n",
    "print(df.tail(20))"
   ]
  },
  {
   "cell_type": "code",
   "execution_count": 2,
   "metadata": {},
   "outputs": [],
   "source": [
    "\n",
    "\n",
    "years = range(2020, 2025)\n",
    "\n",
    "# Prepare data\n",
    "data = []\n"
   ]
  },
  {
   "cell_type": "code",
   "execution_count": 3,
   "metadata": {},
   "outputs": [
    {
     "name": "stdout",
     "output_type": "stream",
     "text": [
      "   Year      Crop Consumer Trend  Population Growth Rate (%)  \\\n",
      "0  2020   Cabbage            Low                         2.6   \n",
      "1  2020   Spinach           High                         2.3   \n",
      "2  2020   Carrots            Low                         3.0   \n",
      "3  2020    Onions         Medium                         2.3   \n",
      "4  2020  Tomatoes            Low                         2.7   \n",
      "\n",
      "   Economic Indicator (%)  Projected Demand (Tons)  \n",
      "0                     1.7                     2811  \n",
      "1                     2.7                     2173  \n",
      "2                     2.4                     2895  \n",
      "3                     4.3                     1210  \n",
      "4                     3.3                     1089  \n"
     ]
    }
   ],
   "source": [
    "\n",
    "for year in years:\n",
    "    for crop in crops:\n",
    "        consumer_trend = np.random.choice(['High', 'Medium', 'Low'])\n",
    "        population_growth_rate = round(np.random.uniform(1.5, 3.5), 1)\n",
    "        economic_indicator = round(np.random.uniform(1.5, 4.5), 1)\n",
    "        projected_demand = np.random.randint(1000, 2900)\n",
    "\n",
    "        data.append([year, crop, consumer_trend, population_growth_rate, economic_indicator, projected_demand])\n",
    "\n",
    "# Create DataFrame\n",
    "df = pd.DataFrame(data, columns=['Year', 'Crop', 'Consumer Trend', 'Population Growth Rate (%)', 'Economic Indicator (%)', 'Projected Demand (Tons)'])\n",
    "\n",
    "\n",
    "print(df.head())\n",
    "\n",
    "\n"
   ]
  },
  {
   "cell_type": "code",
   "execution_count": null,
   "metadata": {},
   "outputs": [],
   "source": []
  }
 ],
 "metadata": {
  "kernelspec": {
   "display_name": "Python 3",
   "language": "python",
   "name": "python3"
  },
  "language_info": {
   "codemirror_mode": {
    "name": "ipython",
    "version": 3
   },
   "file_extension": ".py",
   "mimetype": "text/x-python",
   "name": "python",
   "nbconvert_exporter": "python",
   "pygments_lexer": "ipython3",
   "version": "3.12.4"
  }
 },
 "nbformat": 4,
 "nbformat_minor": 2
}
